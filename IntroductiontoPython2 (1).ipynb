{
  "nbformat": 4,
  "nbformat_minor": 0,
  "metadata": {
    "colab": {
      "name": "IntroductiontoPython2.ipynb",
      "provenance": []
    },
    "kernelspec": {
      "name": "python3",
      "display_name": "Python 3"
    }
  },
  "cells": [
    {
      "cell_type": "markdown",
      "metadata": {
        "id": "bw9oNmafqX0v"
      },
      "source": [
        "# Functions in Python"
      ]
    },
    {
      "cell_type": "code",
      "metadata": {
        "id": "nJfV2oow9roh",
        "colab": {
          "base_uri": "https://localhost:8080/",
          "height": 34
        },
        "outputId": "a3796058-ae29-4cc8-9704-ff1381fcc197"
      },
      "source": [
        "def addition(a, b, c, d):\n",
        "  sum = a+b+c+d\n",
        "  return sum  \n",
        "\n",
        "output = addition(100,105,110,200)\n",
        "print(\"Output is :- \", output) "
      ],
      "execution_count": null,
      "outputs": [
        {
          "output_type": "stream",
          "text": [
            "Output is :-  515\n"
          ],
          "name": "stdout"
        }
      ]
    },
    {
      "cell_type": "code",
      "metadata": {
        "id": "Ckpvmb-zDRJE"
      },
      "source": [
        "a => 4kb\n",
        "b => 5kb\n",
        "a => 6kb\n",
        "\n",
        "\n",
        "a = 1\n",
        "a = 2\n",
        "\n",
        "None -> 2kb\n",
        "None\n",
        "None"
      ],
      "execution_count": null,
      "outputs": []
    },
    {
      "cell_type": "code",
      "metadata": {
        "id": "1mVshaq8qRmr",
        "colab": {
          "base_uri": "https://localhost:8080/",
          "height": 68
        },
        "outputId": "4de74434-1e6d-4d55-ebd9-6a1cd20c6b18"
      },
      "source": [
        "# We Use A def Keyword for a Fucntions\n",
        "\n",
        "def myFirstFunction(a,b):\n",
        "  return output\n",
        "\n",
        "# Now Suppose We want to build a fucntion for Addition.\n",
        "a = 1\n",
        "b = 2\n",
        "c = 3\n",
        "d = 4\n",
        "\n",
        "\n",
        "def addition(a, b, c, d):\n",
        "  sum = a+b+c+d\n",
        "  return sum\n",
        "\n",
        "\n",
        "sum = 1.1\n",
        "\n",
        "a = 1\n",
        "b= 2\n",
        "c = 3\n",
        " \n",
        "# If Else\n",
        "def multiplication(a=None, b= None, c=None):\n",
        "  if b == None and c == None:\n",
        "    multiply = a\n",
        "  elif c == None:\n",
        "    multiply = a*b\n",
        "  else:\n",
        "    multiply = a*b*c    \n",
        "  return multiply\n",
        "\n",
        "\n",
        "multiplication(1,2)\n",
        "\n",
        "# Calling a Function.\n",
        "\n",
        "print(\"First Sum :-\", addition(1,2,3,4))\n",
        "print(\"multiplication:-\", multiplication(1,2,3))\n",
        "print(\"multiplication:-\", multiplication(1,2))\n"
      ],
      "execution_count": null,
      "outputs": [
        {
          "output_type": "stream",
          "text": [
            "First Sum :- 10\n",
            "multiplication:- 6\n",
            "multiplication:- 2\n"
          ],
          "name": "stdout"
        }
      ]
    },
    {
      "cell_type": "markdown",
      "metadata": {
        "id": "b6R35cXrqeC6"
      },
      "source": [
        "# class"
      ]
    },
    {
      "cell_type": "code",
      "metadata": {
        "id": "eBVmxgChqbQk",
        "colab": {
          "base_uri": "https://localhost:8080/",
          "height": 51
        },
        "outputId": "e17ec076-d8b9-4037-b26e-3f1312b96d39"
      },
      "source": [
        "a = 1\n",
        "print(type(a))\n",
        "b = 'aa'\n",
        "print(type(b))"
      ],
      "execution_count": null,
      "outputs": [
        {
          "output_type": "stream",
          "text": [
            "<class 'int'>\n",
            "<class 'str'>\n"
          ],
          "name": "stdout"
        }
      ]
    },
    {
      "cell_type": "code",
      "metadata": {
        "id": "BIkjldB4qgss",
        "colab": {
          "base_uri": "https://localhost:8080/",
          "height": 68
        },
        "outputId": "b5df01c7-fef3-434b-c4ba-625bc440f443"
      },
      "source": [
        "class Calculator():\n",
        "  def addition(self, a, b, c, d):\n",
        "    sum = a+b+c+d\n",
        "    self.sum = sum\n",
        "    return sum\n",
        "\n",
        "\n",
        "  def sub(self,a,b):\n",
        "    subt = a-b-self.sum\n",
        "    self.subt = subt\n",
        "    return subt \n",
        " \n",
        "\n",
        "obj = Calculator()\n",
        "\n",
        "print(obj.addition(1,2,3,4))\n",
        "print(obj.sub(1,2))"
      ],
      "execution_count": null,
      "outputs": [
        {
          "output_type": "stream",
          "text": [
            "<class 'int'>\n",
            "10\n",
            "-11\n"
          ],
          "name": "stdout"
        }
      ]
    },
    {
      "cell_type": "code",
      "metadata": {
        "id": "3FQT6ctSqifN",
        "colab": {
          "base_uri": "https://localhost:8080/",
          "height": 51
        },
        "outputId": "1b088a91-76ed-41b6-b10d-6cd480a4fcc8"
      },
      "source": [
        "class December():\n",
        "\n",
        "  \n",
        "  def __init__(self,a,b,c,d,e):\n",
        "    self.a = a\n",
        "    self.b = b\n",
        "    self.c = c\n",
        "    self.d = d\n",
        "    self.e = e\n",
        "\n",
        "\n",
        "  def addition(self):\n",
        "    sum = self.a+self.b+self.c+self.d\n",
        "    self.sum = sum\n",
        "    return sum\n",
        "\n",
        "\n",
        "  def sub(self):\n",
        "    subt = self.a-self.b-self.sum\n",
        "    return subt   \n",
        "\n",
        "\n",
        "\n",
        "a = December(1,2,3,4,5)\n",
        "print(a.addition())\n",
        "print(a.sub())\n",
        "\n"
      ],
      "execution_count": null,
      "outputs": [
        {
          "output_type": "stream",
          "text": [
            "10\n",
            "-11\n"
          ],
          "name": "stdout"
        }
      ]
    },
    {
      "cell_type": "code",
      "metadata": {
        "id": "5v0xJHc9VHfL",
        "colab": {
          "base_uri": "https://localhost:8080/"
        },
        "outputId": "5584dc61-2986-4ac3-e8be-d7d2109a39d4"
      },
      "source": [
        "class calculator():\n",
        "  def __init__(self,a,b,c,d):\n",
        "    self.a = a\n",
        "    self.b = b\n",
        "    self.c = c\n",
        "    self.d = d\n",
        "\n",
        "  def addition(self):\n",
        "    return 1\n",
        "\n",
        "  def subtraction(self):\n",
        "    return 2\n",
        "\n",
        "  def multi(self):\n",
        "    return 3\n",
        "\n",
        "  def div(self):\n",
        "    return 4\n",
        "\n",
        "  def pow(self):\n",
        "    return 5\n",
        "\n",
        "  def main(self):\n",
        "    add = self.addition()\n",
        "    sub = self.subtraction()\n",
        "    multi = self.multi()\n",
        "    div = self.div()\n",
        "    pow = self.pow() \n",
        "\n",
        "    sum = add+sub+multi+div+pow \n",
        "    return sum    \n",
        "\n",
        "\n",
        "a = calculator(1,2,3,4)\n",
        "b = a.main()\n",
        "print(b)"
      ],
      "execution_count": null,
      "outputs": [
        {
          "output_type": "execute_result",
          "data": {
            "text/plain": [
              "15"
            ]
          },
          "metadata": {
            "tags": []
          },
          "execution_count": 3
        }
      ]
    },
    {
      "cell_type": "markdown",
      "metadata": {
        "id": "2CVvjqEUqnBD"
      },
      "source": [
        "# Inheritance\n"
      ]
    },
    {
      "cell_type": "code",
      "metadata": {
        "id": "1PeHH0Pbqk3q",
        "colab": {
          "base_uri": "https://localhost:8080/",
          "height": 119
        },
        "outputId": "a0a33ede-6832-4dde-c95a-f75010078b99"
      },
      "source": [
        "class A():\n",
        "  \n",
        "  def function1(self):\n",
        "    a= \"This is Function 1\"\n",
        "    return a\n",
        "\n",
        "  def function2(self):\n",
        "    a=\"This is Function 2\"\n",
        "    return a\n",
        "\n",
        "\n",
        "class B(A):\n",
        "  \n",
        "  def function3(self):\n",
        "    a=\"This is Function 3\"\n",
        "    return a\n",
        "\n",
        "  def function4(self):\n",
        "    a=\"This is function 4\"\n",
        "    return a   \n",
        " \n",
        "\n",
        "# Calling the Parent Class\n",
        "a1 = A()\n",
        "print(\"Parent class function1\", a1.function1())\n",
        "print(\"Parent class function1\", a1.function2())   \n",
        "\n",
        "# Calling the parent class from child class.\n",
        "obj = B()\n",
        "print(\"Parent class function\", obj.function1())\n",
        "print(\"Parent class function\", obj.function2())\n",
        "\n",
        "print(\"Child class function\", obj.function3())\n",
        "print(\"Child class Function\", obj.function4())\n"
      ],
      "execution_count": null,
      "outputs": [
        {
          "output_type": "stream",
          "text": [
            "Parent class function1 This is Function 1\n",
            "Parent class function1 This is Function 2\n",
            "Parent class function This is Function 1\n",
            "Parent class function This is Function 2\n",
            "Child class function This is Function 3\n",
            "Child class Function This is function 4\n"
          ],
          "name": "stdout"
        }
      ]
    },
    {
      "cell_type": "markdown",
      "metadata": {
        "id": "QKgcrw95qs0O"
      },
      "source": [
        "# Encapsulation"
      ]
    },
    {
      "cell_type": "code",
      "metadata": {
        "id": "A-uD_hd0qqFp"
      },
      "source": [
        "priyank = 9 # public \n",
        "_priyank = 9 # protected\n",
        "__priyank = 9 # private"
      ],
      "execution_count": null,
      "outputs": []
    },
    {
      "cell_type": "code",
      "metadata": {
        "id": "tAa-yHVcquuE",
        "colab": {
          "base_uri": "https://localhost:8080/",
          "height": 51
        },
        "outputId": "2f5fb540-86b2-48a9-a99f-c85812e2dbd2"
      },
      "source": [
        "\n",
        "# It describes the idea of wrapping data and the methods that work on data within one unit. \n",
        "# This puts restrictions on accessing variables and methods directly and can prevent the accidental modification of data.\n",
        "# Creating a base class \n",
        "class Base: \n",
        "    def __init__(self): \n",
        "          \n",
        "        # Protected member \n",
        "        self._a = 2\n",
        "  \n",
        "# Creating a derived class     \n",
        "class Derived(Base): \n",
        "    def __init__(self): \n",
        "          \n",
        "        # Calling constructor of \n",
        "        # Base class \n",
        "        Base.__init__(self)  \n",
        "        print(\"Calling protected member of base class: \") \n",
        "        print(self._a) \n",
        "          \n",
        "obj1 = Base() \n",
        "  \n",
        "# Calling protected member \n",
        "# Outside class will  result in  \n",
        "# AttributeError \n",
        "# print(obj1.a) \n",
        "  \n",
        "obj2 = Derived()"
      ],
      "execution_count": null,
      "outputs": [
        {
          "output_type": "stream",
          "text": [
            "Calling protected member of base class: \n",
            "2\n"
          ],
          "name": "stdout"
        }
      ]
    },
    {
      "cell_type": "code",
      "metadata": {
        "id": "5e7woXk2ZV_E"
      },
      "source": [
        "def Avengers():\n",
        "  return\n",
        "\n",
        "def EndGame():\n",
        "  a = Avengers()\n",
        "  \n",
        "  return  "
      ],
      "execution_count": null,
      "outputs": []
    },
    {
      "cell_type": "code",
      "metadata": {
        "id": "Ca2mk2pjqwdC",
        "colab": {
          "base_uri": "https://localhost:8080/",
          "height": 34
        },
        "outputId": "ba28f1c8-cc73-4925-803c-726c4b615a0e"
      },
      "source": [
        "class vaibhav():\n",
        "\n",
        "  def __init__(self,a,b,c,d):\n",
        "    self.a = a\n",
        "    self.b = b\n",
        "    self.c = c\n",
        "    self.d = d\n",
        "\n",
        "  def addition(self):\n",
        "    a = 1\n",
        "    return a\n",
        "  def sub(self):\n",
        "    return 2\n",
        "\n",
        "\n",
        "  def multi(self):\n",
        "   return 3\n",
        "\n",
        "  def div(self):\n",
        "   return  4\n",
        "\n",
        "  def main(self):\n",
        "    a = self.addition()\n",
        "    b = self.sub()\n",
        "    c = self.multi()\n",
        "    d = self.div()\n",
        "    out = a+b+c+d\n",
        "    return out \n",
        "\n",
        "\n",
        "obj = vaibhav(1,2,3,4) \n",
        "obj.main()   \n"
      ],
      "execution_count": null,
      "outputs": [
        {
          "output_type": "execute_result",
          "data": {
            "text/plain": [
              "10"
            ]
          },
          "metadata": {
            "tags": []
          },
          "execution_count": 13
        }
      ]
    },
    {
      "cell_type": "markdown",
      "metadata": {
        "id": "zqMXSRqvrVYM"
      },
      "source": [
        "# Ploymorphism, Method Overloading and Overriding"
      ]
    },
    {
      "cell_type": "code",
      "metadata": {
        "id": "f6qZcQ7MqyYA",
        "colab": {
          "base_uri": "https://localhost:8080/",
          "height": 68
        },
        "outputId": "3d3c61b4-cad2-4e5d-bea3-799f6b6499f3"
      },
      "source": [
        "# Method Overloading. \n",
        "class Calculator():\n",
        "  # def __init__(self, a,b,c)\n",
        "  # self.a = a or None\n",
        "  # self.b = b or None\n",
        "  # self.c = c  or None\n",
        "\n",
        "\n",
        "  def addition(self, a=None, b=None, c=None):\n",
        "    if a != None and b != None and c != None:\n",
        "      sum = a+b+c\n",
        "    elif c == None and b != None: \n",
        "      sum = a+b\n",
        "    elif b == None and c == None:\n",
        "      sum = a\n",
        "    return sum\n",
        "\n",
        "  \n",
        "cal = Calculator()\n",
        "print(\"First\", cal.addition(1,2,3))\n",
        "print(\"Second\", cal.addition(1,2))\n",
        "print(\"Third\", cal.addition(1))\n",
        "\n",
        "\n",
        "# Mehtod Overriding :- If you have already written a function in one class and you are again writing the same function in another class then you are overiding."
      ],
      "execution_count": null,
      "outputs": [
        {
          "output_type": "stream",
          "text": [
            "First 6\n",
            "Second 3\n",
            "Third 1\n"
          ],
          "name": "stdout"
        }
      ]
    },
    {
      "cell_type": "code",
      "metadata": {
        "id": "tMyyyyP6rXRk"
      },
      "source": [
        "# Abstraction in Python is the process of hiding the real implementation of an application from the user and emphasizing only on usage of it. \n",
        "# For example, consider you have bought a new electronic gadget. \n",
        "# Along with the gadget, you get a user guide, instructing how to use the application, \n",
        "# but this user guide has no info regarding the internal working of the gadget."
      ],
      "execution_count": null,
      "outputs": []
    },
    {
      "cell_type": "markdown",
      "metadata": {
        "id": "75ntbGcPCpj3"
      },
      "source": [
        ""
      ]
    },
    {
      "cell_type": "markdown",
      "metadata": {
        "id": "lL4y5tB8cJyq"
      },
      "source": [
        "# List Compreshensions\n",
        "new_list = [expression for_loop_one_or_more conditions]\n"
      ]
    },
    {
      "cell_type": "code",
      "metadata": {
        "id": "-Pt_8Xj6ra9u",
        "colab": {
          "base_uri": "https://localhost:8080/",
          "height": 34
        },
        "outputId": "1ca4b4e0-c666-4d16-bf9c-5621a7a1ab25"
      },
      "source": [
        "# Finding Square\n",
        "\n",
        "numbers = [1, 2, 3, 4]\n",
        "squares = []\n",
        "\n",
        "for i in numbers:\n",
        "  squares.append(i**2)   # O(n)\n",
        "\n",
        "print(squares)"
      ],
      "execution_count": null,
      "outputs": [
        {
          "output_type": "stream",
          "text": [
            "[1, 4, 9, 16]\n"
          ],
          "name": "stdout"
        }
      ]
    },
    {
      "cell_type": "code",
      "metadata": {
        "id": "Idn7aJ7BAx1A"
      },
      "source": [
        "# varible = [i**2 for i in numbers]"
      ],
      "execution_count": null,
      "outputs": []
    },
    {
      "cell_type": "code",
      "metadata": {
        "id": "A6ZHSwmscdK-",
        "colab": {
          "base_uri": "https://localhost:8080/",
          "height": 34
        },
        "outputId": "152ef42f-abf6-4f7c-8b99-dd2614f7367f"
      },
      "source": [
        "# Using List Comprehensions\n",
        "numbers = [1, 2, 3, 4]\n",
        "squares = [n**2 for n in number]\n",
        "\n",
        "# [1, 4,9,16]\n",
        "\n",
        "print(squares)"
      ],
      "execution_count": null,
      "outputs": [
        {
          "output_type": "stream",
          "text": [
            "[1, 4, 9, 16]\n"
          ],
          "name": "stdout"
        }
      ]
    },
    {
      "cell_type": "code",
      "metadata": {
        "id": "DCiS7stsc1VW",
        "colab": {
          "base_uri": "https://localhost:8080/",
          "height": 34
        },
        "outputId": "bf6398ba-491d-47b3-c340-85c7d40fe02f"
      },
      "source": [
        "# Finding Common Number b/w two lists traditional way \n",
        "list_a = [1, 2, 3, 4]\n",
        "list_b = [2, 3, 4, 5]\n",
        "\n",
        "common_num = []\n",
        "\n",
        "for a in list_a:\n",
        "  for b in list_b:\n",
        "    if a == b:\n",
        "      common_num.append(a)\n",
        "      \n",
        "print(common_num) "
      ],
      "execution_count": null,
      "outputs": [
        {
          "output_type": "stream",
          "text": [
            "[2, 3, 4]\n"
          ],
          "name": "stdout"
        }
      ]
    },
    {
      "cell_type": "code",
      "metadata": {
        "id": "WYjpu8Z1dDgE",
        "colab": {
          "base_uri": "https://localhost:8080/",
          "height": 34
        },
        "outputId": "6bbb1a71-4c50-42d8-ddbc-9eb45bbda0a2"
      },
      "source": [
        "# Using List Comprehension\n",
        "list_a = [1, 2, 3, 4]\n",
        "list_b = [2, 3, 4, 5]\n",
        "\n",
        "common_num = [a for a in list_a for b in list_b if a == b]\n",
        "\n",
        "print(common_num) # Output: [(2), (3), (4)]"
      ],
      "execution_count": null,
      "outputs": [
        {
          "output_type": "stream",
          "text": [
            "[2, 3, 4]\n"
          ],
          "name": "stdout"
        }
      ]
    },
    {
      "cell_type": "code",
      "metadata": {
        "id": "es7AsQAldKFO",
        "colab": {
          "base_uri": "https://localhost:8080/",
          "height": 34
        },
        "outputId": "6a36b9be-df1b-4cf6-d745-657eb605297f"
      },
      "source": [
        "# Return numbers from the list which are not equal as a tuple:\n",
        "\n",
        "list_a = [1, 2, 3]\n",
        "list_b = [2, 7]\n",
        "\n",
        "\n",
        "# (a,b)\n",
        "\n",
        "different_num = [(a, b) for a in list_a for b in list_b if a != b]\n",
        "\n",
        "print(different_num) # Output: [(1, 2), (1, 7), (2, 7), (3, 2), (3, 7)"
      ],
      "execution_count": null,
      "outputs": [
        {
          "output_type": "stream",
          "text": [
            "[(1, 2), (1, 7), (2, 7), (3, 2), (3, 7)]\n"
          ],
          "name": "stdout"
        }
      ]
    },
    {
      "cell_type": "markdown",
      "metadata": {
        "id": "YzGmWuH6d-wC"
      },
      "source": [
        "# Map, Filter, Reduce Python"
      ]
    },
    {
      "cell_type": "code",
      "metadata": {
        "id": "qvIs3GO-dUhJ",
        "colab": {
          "base_uri": "https://localhost:8080/",
          "height": 34
        },
        "outputId": "df104902-bdcf-419d-a31d-0e6c45c9e78a"
      },
      "source": [
        "# Traditional way\n",
        "my_pets = ['alfred', 'tabitha', 'william', 'arla']\n",
        "uppered_pets = []\n",
        "\n",
        "for pet in my_pets:\n",
        "    pet_ = pet.upper()\n",
        "    uppered_pets.append(pet_)\n",
        "\n",
        "print(uppered_pets)\n",
        "\n",
        "\n",
        "# map(condition , List on which you want to apply that condition)"
      ],
      "execution_count": null,
      "outputs": [
        {
          "output_type": "stream",
          "text": [
            "['ALFRED', 'TABITHA', 'WILLIAM', 'ARLA']\n"
          ],
          "name": "stdout"
        }
      ]
    },
    {
      "cell_type": "code",
      "metadata": {
        "id": "xs-mwwpceEWE",
        "colab": {
          "base_uri": "https://localhost:8080/",
          "height": 34
        },
        "outputId": "d551e859-fa36-4520-aacb-99e462090272"
      },
      "source": [
        "# Using Map\n",
        "my_pets = ['alfred', 'tabitha', 'william', 'arla']\n",
        "\n",
        "uppered_pets = list(map(str.upper, my_pets))\n",
        "\n",
        "print(uppered_pets)"
      ],
      "execution_count": null,
      "outputs": [
        {
          "output_type": "stream",
          "text": [
            "['ALFRED', 'TABITHA', 'WILLIAM', 'ARLA']\n"
          ],
          "name": "stdout"
        }
      ]
    },
    {
      "cell_type": "code",
      "metadata": {
        "id": "KNZk00Gpf2NM",
        "colab": {
          "base_uri": "https://localhost:8080/",
          "height": 34
        },
        "outputId": "baba433d-6d2b-4e3f-aa16-af5a80e87063"
      },
      "source": [
        "items = [1, 2, 3, 4, 5]\n",
        "squared = list(map(lambda x: x**2, items))\n",
        "print(squared)"
      ],
      "execution_count": null,
      "outputs": [
        {
          "output_type": "stream",
          "text": [
            "[1, 4, 9, 16, 25]\n"
          ],
          "name": "stdout"
        }
      ]
    },
    {
      "cell_type": "code",
      "metadata": {
        "id": "s1aKeupBgFdC"
      },
      "source": [
        "def addition(a):\n",
        "  a = a+10\n",
        "  return a\n",
        "\n",
        "addition(5)  "
      ],
      "execution_count": null,
      "outputs": []
    },
    {
      "cell_type": "code",
      "metadata": {
        "id": "ZTLdBl5QeKsq",
        "colab": {
          "base_uri": "https://localhost:8080/",
          "height": 51
        },
        "outputId": "9a43f522-2515-4f43-c8c4-baa5ec2509c6"
      },
      "source": [
        "# Lambda Functions \n",
        "x = lambda a : a + 10\n",
        "print(type(x))\n",
        "print(x(5))"
      ],
      "execution_count": null,
      "outputs": [
        {
          "output_type": "stream",
          "text": [
            "<class 'function'>\n",
            "15\n"
          ],
          "name": "stdout"
        }
      ]
    },
    {
      "cell_type": "code",
      "metadata": {
        "id": "LShLADs9eyAV",
        "colab": {
          "base_uri": "https://localhost:8080/",
          "height": 34
        },
        "outputId": "60f52c2c-d01a-4f36-eb09-4a7d3226c1d6"
      },
      "source": [
        "x = lambda a, b : a * b\n",
        "print(x(5, 6))"
      ],
      "execution_count": null,
      "outputs": [
        {
          "output_type": "stream",
          "text": [
            "30\n"
          ],
          "name": "stdout"
        }
      ]
    },
    {
      "cell_type": "code",
      "metadata": {
        "id": "KTBIuEiie6R_",
        "colab": {
          "base_uri": "https://localhost:8080/",
          "height": 34
        },
        "outputId": "2f57e1f0-6efc-415b-ce19-57ba0373def1"
      },
      "source": [
        "x = lambda a, b, c : a + b + c\n",
        "print(x(5, 6, 2))"
      ],
      "execution_count": null,
      "outputs": [
        {
          "output_type": "stream",
          "text": [
            "13\n"
          ],
          "name": "stdout"
        }
      ]
    },
    {
      "cell_type": "code",
      "metadata": {
        "id": "uIq4gDZ-e994",
        "colab": {
          "base_uri": "https://localhost:8080/",
          "height": 34
        },
        "outputId": "295c8d24-b43d-4646-fc69-0e41cb687b1c"
      },
      "source": [
        "def myfunc(n):\n",
        "  b = lambda a : a * n\n",
        "  return b\n",
        "\n",
        "mydoubler = myfunc(2)\n",
        "print(mydoubler(11))\n"
      ],
      "execution_count": null,
      "outputs": [
        {
          "output_type": "stream",
          "text": [
            "22\n"
          ],
          "name": "stdout"
        }
      ]
    },
    {
      "cell_type": "code",
      "metadata": {
        "id": "6LiwN5QlfCi9",
        "colab": {
          "base_uri": "https://localhost:8080/",
          "height": 34
        },
        "outputId": "37687138-3f34-4eac-fe2d-033479ddc48d"
      },
      "source": [
        "# Filter\n",
        "scores = [66, 90, 68, 59, 76, 60, 88, 74, 81, 65]\n",
        "\n",
        "def is_A_student(score):\n",
        "    return score > 75\n",
        "\n",
        "over_75 = list(filter(is_A_student, scores))\n",
        "\n",
        "print(over_75)"
      ],
      "execution_count": null,
      "outputs": [
        {
          "output_type": "stream",
          "text": [
            "[90, 76, 88, 81]\n"
          ],
          "name": "stdout"
        }
      ]
    },
    {
      "cell_type": "code",
      "metadata": {
        "id": "k9Ve2UeLgC8k",
        "colab": {
          "base_uri": "https://localhost:8080/",
          "height": 34
        },
        "outputId": "26dba75f-d47f-4290-9342-92f77016e80b"
      },
      "source": [
        "number_list = range(-5, 5)\n",
        "# [-5,-4,-3,-2,-1,0,1,2,3,4]\n",
        "less_than_zero = list(filter(lambda x: x < 0, number_list))\n",
        "print(less_than_zero)"
      ],
      "execution_count": null,
      "outputs": [
        {
          "output_type": "stream",
          "text": [
            "[-5, -4, -3, -2, -1]\n"
          ],
          "name": "stdout"
        }
      ]
    },
    {
      "cell_type": "code",
      "metadata": {
        "id": "7LA9t8dffKMY",
        "colab": {
          "base_uri": "https://localhost:8080/",
          "height": 34
        },
        "outputId": "6b02b046-4562-4f69-bd91-e06e787cd235"
      },
      "source": [
        "# Reduce \n",
        "# Python 3\n",
        "from functools import reduce\n",
        "\n",
        "numbers = [3, 4, 6, 9, 34, 12]\n",
        "\n",
        "def custom_sum(first, second):\n",
        "    return first + second\n",
        "\n",
        "result = reduce(custom_sum, numbers)\n",
        "print(result)"
      ],
      "execution_count": null,
      "outputs": [
        {
          "output_type": "stream",
          "text": [
            "68\n"
          ],
          "name": "stdout"
        }
      ]
    },
    {
      "cell_type": "code",
      "metadata": {
        "id": "aL5O3h_XgJa_",
        "colab": {
          "base_uri": "https://localhost:8080/",
          "height": 34
        },
        "outputId": "a1082c6a-921e-4678-f215-60c4dc4bfcd8"
      },
      "source": [
        "from functools import reduce\n",
        "product = reduce((lambda x, y: x * y), [1, 2, 3, 4])\n",
        "print(product)"
      ],
      "execution_count": null,
      "outputs": [
        {
          "output_type": "stream",
          "text": [
            "24\n"
          ],
          "name": "stdout"
        }
      ]
    },
    {
      "cell_type": "code",
      "metadata": {
        "id": "Fvl5P2g0ff3C"
      },
      "source": [
        ""
      ],
      "execution_count": null,
      "outputs": []
    },
    {
      "cell_type": "markdown",
      "metadata": {
        "id": "33QFXtu6hoiW"
      },
      "source": [
        "# Assignment \n",
        "1 - Print odd number using List Compreshension. a = [ 1,2,3,4,5,6,7,8,9]\n",
        "\n",
        "2 - Build a Calculator using Functions and classes in python. Functions can be Additon,subtraction,multiplication, division, modulus, power and call them using your own test Data. \n",
        "\n",
        "# Daily DS and Algorithm Interview Question Asked in Top Tier Companies Like Google, Microsoft, Facebook, Playment, Flipkart etc.\n",
        "`\n",
        "  The Question is Array Based \n",
        "\n",
        "  Write a function that takes in a non-empty array of distinct integers and an\n",
        "  integer representing a target sum. If any two numbers in the input array sum\n",
        "  up to the target sum, the function should return them in an array, in any\n",
        "  order. If no two numbers sum up to the target sum, the function should return\n",
        "  an empty array.\n",
        "  \n",
        "  Note that the target sum has to be obtained by summing two different integers\n",
        "  in the array; you can't add a single integer to itself in order to obtain the\n",
        "  target sum.\n",
        "  \n",
        "  You can assume that there will be at most one pair of numbers summing up to\n",
        "  the target sum.\n",
        "  \n",
        "  Sample Input:- \n",
        "  array = [3, 5, -4, 8, 11, 1, -1, 6]\n",
        "\n",
        "  targetSum = 10\n",
        "\n",
        "  Sample Output:-\n",
        "  [-1,11]\n"
      ]
    },
    {
      "cell_type": "code",
      "metadata": {
        "colab": {
          "base_uri": "https://localhost:8080/"
        },
        "id": "LjO6w2HVLJdU",
        "outputId": "dee17c3e-cb5e-4d22-89a5-a5ff745f8ef6"
      },
      "source": [
        "#Calculator\r\n",
        "\r\n",
        "class calculator():\r\n",
        "    def __init__(self,a,b):\r\n",
        "        self.a=a\r\n",
        "        self.b=b\r\n",
        "    def add(self):\r\n",
        "        return self.a+self.b\r\n",
        "    def mul(self):\r\n",
        "        return self.a*self.b\r\n",
        "    def div(self):\r\n",
        "        return self.a/self.b\r\n",
        "    def sub(self):\r\n",
        "        return self.a-self.b\r\n",
        "a=int(input(\"Enter first number: \"))\r\n",
        "b=int(input(\"Enter second number: \"))\r\n",
        "obj=cal(a,b)\r\n",
        "choice=1\r\n",
        "while choice!=0:\r\n",
        "    print(\"0. Exit\")\r\n",
        "    print(\"1. Add\")\r\n",
        "    print(\"2. Subtraction\")\r\n",
        "    print(\"3. Multiplication\")\r\n",
        "    print(\"4. Division\")\r\n",
        "    choice=int(input(\"Enter choice: \"))\r\n",
        "    if choice==1:\r\n",
        "        print(\"Result: \",obj.add())\r\n",
        "    elif choice==2:\r\n",
        "        print(\"Result: \",obj.sub())\r\n",
        "    elif choice==3:\r\n",
        "        print(\"Result: \",obj.mul())\r\n",
        "    elif choice==4:\r\n",
        "        print(\"Result: \",round(obj.div(),2))\r\n",
        "    elif choice==0:\r\n",
        "        print(\"Exiting!\")\r\n",
        "    else:\r\n",
        "        print(\"Invalid choice!!\")\r\n",
        " \r\n",
        " \r\n",
        "print()"
      ],
      "execution_count": null,
      "outputs": [
        {
          "output_type": "stream",
          "text": [
            "Enter first number: 2\n",
            "Enter second number: 3\n",
            "0. Exit\n",
            "1. Add\n",
            "2. Subtraction\n",
            "3. Multiplication\n",
            "4. Division\n",
            "Enter choice: 1\n",
            "Result:  5\n",
            "0. Exit\n",
            "1. Add\n",
            "2. Subtraction\n",
            "3. Multiplication\n",
            "4. Division\n"
          ],
          "name": "stdout"
        }
      ]
    },
    {
      "cell_type": "code",
      "metadata": {
        "id": "8PNHWXGejTEE",
        "colab": {
          "base_uri": "https://localhost:8080/",
          "height": 622
        },
        "outputId": "d7ff9d4a-d114-48fa-f6c9-c6283916a23b"
      },
      "source": [
        "a = [1,2,3,4]\n",
        "b = [1,2,3,45,56]\n",
        "\n",
        "for i in a:\n",
        "  print(i)      #O(1)< O(Log N)  < O(N) < O(N(Log N))\n",
        "\n",
        "for i in a :\n",
        "  for j in b:   # O(N^2)\n",
        "    print(j)\n",
        "    \n",
        "for i in a :\n",
        "  for j in b:     #O(N^3)\n",
        "    for k in c :\n",
        "      print(k)"
      ],
      "execution_count": 3,
      "outputs": [
        {
          "output_type": "stream",
          "text": [
            "1\n",
            "2\n",
            "3\n",
            "4\n",
            "1\n",
            "2\n",
            "3\n",
            "45\n",
            "56\n",
            "1\n",
            "2\n",
            "3\n",
            "45\n",
            "56\n",
            "1\n",
            "2\n",
            "3\n",
            "45\n",
            "56\n",
            "1\n",
            "2\n",
            "3\n",
            "45\n",
            "56\n"
          ],
          "name": "stdout"
        },
        {
          "output_type": "error",
          "ename": "NameError",
          "evalue": "ignored",
          "traceback": [
            "\u001b[0;31m---------------------------------------------------------------------------\u001b[0m",
            "\u001b[0;31mNameError\u001b[0m                                 Traceback (most recent call last)",
            "\u001b[0;32m<ipython-input-3-08d2aea35936>\u001b[0m in \u001b[0;36m<module>\u001b[0;34m()\u001b[0m\n\u001b[1;32m     11\u001b[0m \u001b[0;32mfor\u001b[0m \u001b[0mi\u001b[0m \u001b[0;32min\u001b[0m \u001b[0ma\u001b[0m \u001b[0;34m:\u001b[0m\u001b[0;34m\u001b[0m\u001b[0;34m\u001b[0m\u001b[0m\n\u001b[1;32m     12\u001b[0m   \u001b[0;32mfor\u001b[0m \u001b[0mj\u001b[0m \u001b[0;32min\u001b[0m \u001b[0mb\u001b[0m\u001b[0;34m:\u001b[0m     \u001b[0;31m#O(N^3)\u001b[0m\u001b[0;34m\u001b[0m\u001b[0;34m\u001b[0m\u001b[0m\n\u001b[0;32m---> 13\u001b[0;31m     \u001b[0;32mfor\u001b[0m \u001b[0mk\u001b[0m \u001b[0;32min\u001b[0m \u001b[0mc\u001b[0m \u001b[0;34m:\u001b[0m\u001b[0;34m\u001b[0m\u001b[0;34m\u001b[0m\u001b[0m\n\u001b[0m\u001b[1;32m     14\u001b[0m       \u001b[0mprint\u001b[0m\u001b[0;34m(\u001b[0m\u001b[0mk\u001b[0m\u001b[0;34m)\u001b[0m\u001b[0;34m\u001b[0m\u001b[0;34m\u001b[0m\u001b[0m\n",
            "\u001b[0;31mNameError\u001b[0m: name 'c' is not defined"
          ]
        }
      ]
    },
    {
      "cell_type": "code",
      "metadata": {
        "id": "aUlRyn6zEYT7",
        "colab": {
          "base_uri": "https://localhost:8080/",
          "height": 129
        },
        "outputId": "e6b2b9c8-6a6e-4237-8674-24a5cd47fbf2"
      },
      "source": [
        "0->1000\n",
        "\n",
        "if i%4 == 0:\n",
        "\n",
        "if i%100 == 0 and i%400 == 0:\n",
        "  print(\"non leap\")\n",
        "elif i%4 == 0:\n",
        "  print(\"leap\")\n",
        "    "
      ],
      "execution_count": 4,
      "outputs": [
        {
          "output_type": "error",
          "ename": "SyntaxError",
          "evalue": "ignored",
          "traceback": [
            "\u001b[0;36m  File \u001b[0;32m\"<ipython-input-4-18ebed9a6c24>\"\u001b[0;36m, line \u001b[0;32m1\u001b[0m\n\u001b[0;31m    0->1000\u001b[0m\n\u001b[0m      ^\u001b[0m\n\u001b[0;31mSyntaxError\u001b[0m\u001b[0;31m:\u001b[0m invalid syntax\n"
          ]
        }
      ]
    },
    {
      "cell_type": "code",
      "metadata": {
        "id": "Xgsz5E0kEauA"
      },
      "source": [
        "a = [ 'I', 'IV', 'V', 'VI', 'IX', 'X']\n",
        "b = [1,4,5.....]\n",
        "\n",
        "for a, b in zip(a,b):\n",
        "  print(a)\n",
        "  print(b)\n",
        "\n",
        "\n",
        "a = input(\"\")\n",
        "a = 'priyank.com'\n",
        "'priyank18k@gmail.com'\n",
        "a.spilt('@')\n",
        "['priyankk18k', 'gmail.com']\n",
        "a.endswith('gmail.com')\n",
        "a.startswith('priyank')\n",
        "a = '99999999999999'\n",
        "len(a)>10:"
      ],
      "execution_count": null,
      "outputs": []
    },
    {
      "cell_type": "code",
      "metadata": {
        "id": "oXpsZLWb_897",
        "colab": {
          "base_uri": "https://localhost:8080/",
          "height": 566
        },
        "outputId": "9dd3ada8-0f6d-4757-95b1-c551cb675388"
      },
      "source": [
        "# Make a Game Stone, Paper, Scisor.\n",
        "from random import randint\n",
        "\n",
        "# create a list of play options\n",
        "t = [\"Rock\", \"Paper\", \"Scissors\"]\n",
        "\n",
        "#assign a random play to the computer\n",
        "computer = t[randint(0,2)]\n",
        "\n",
        "#set player to False\n",
        "player = False\n",
        "while player == False:\n",
        "#set player to True\n",
        "    player = input(\"Rock, Paper, Scissors?\")\n",
        "    if player == computer:\n",
        "        print(\"Tie!\")\n",
        "    elif player == \"Rock\":\n",
        "        if computer == \"Paper\":\n",
        "            print(\"You lose!\", computer, \"covers\", player)\n",
        "        else:\n",
        "            print(\"You win!\", player, \"smashes\", computer)\n",
        "    elif player == \"Paper\":\n",
        "        if computer == \"Scissors\":\n",
        "            print(\"You lose!\", computer, \"cut\", player)\n",
        "        else:\n",
        "            print(\"You win!\", player, \"covers\", computer)\n",
        "    elif player == \"Scissors\":\n",
        "        if computer == \"Rock\":\n",
        "            print(\"You lose...\", computer, \"smashes\", player)\n",
        "        else:\n",
        "            print(\"You win!\", player, \"cut\", computer)\n",
        "    else:\n",
        "        print(\"That's not a valid play. Check your spelling!\")\n",
        "    #player was set to True, but we want it to be False so the loop continues\n",
        "    player = False\n",
        "    computer = t[randint(0,2)]"
      ],
      "execution_count": null,
      "outputs": [
        {
          "output_type": "error",
          "ename": "KeyboardInterrupt",
          "evalue": "ignored",
          "traceback": [
            "\u001b[0;31m---------------------------------------------------------------------------\u001b[0m",
            "\u001b[0;31mKeyboardInterrupt\u001b[0m                         Traceback (most recent call last)",
            "\u001b[0;32m/usr/local/lib/python3.6/dist-packages/ipykernel/kernelbase.py\u001b[0m in \u001b[0;36m_input_request\u001b[0;34m(self, prompt, ident, parent, password)\u001b[0m\n\u001b[1;32m    728\u001b[0m             \u001b[0;32mtry\u001b[0m\u001b[0;34m:\u001b[0m\u001b[0;34m\u001b[0m\u001b[0;34m\u001b[0m\u001b[0m\n\u001b[0;32m--> 729\u001b[0;31m                 \u001b[0mident\u001b[0m\u001b[0;34m,\u001b[0m \u001b[0mreply\u001b[0m \u001b[0;34m=\u001b[0m \u001b[0mself\u001b[0m\u001b[0;34m.\u001b[0m\u001b[0msession\u001b[0m\u001b[0;34m.\u001b[0m\u001b[0mrecv\u001b[0m\u001b[0;34m(\u001b[0m\u001b[0mself\u001b[0m\u001b[0;34m.\u001b[0m\u001b[0mstdin_socket\u001b[0m\u001b[0;34m,\u001b[0m \u001b[0;36m0\u001b[0m\u001b[0;34m)\u001b[0m\u001b[0;34m\u001b[0m\u001b[0;34m\u001b[0m\u001b[0m\n\u001b[0m\u001b[1;32m    730\u001b[0m             \u001b[0;32mexcept\u001b[0m \u001b[0mException\u001b[0m\u001b[0;34m:\u001b[0m\u001b[0;34m\u001b[0m\u001b[0;34m\u001b[0m\u001b[0m\n",
            "\u001b[0;32m/usr/local/lib/python3.6/dist-packages/jupyter_client/session.py\u001b[0m in \u001b[0;36mrecv\u001b[0;34m(self, socket, mode, content, copy)\u001b[0m\n\u001b[1;32m    802\u001b[0m         \u001b[0;32mtry\u001b[0m\u001b[0;34m:\u001b[0m\u001b[0;34m\u001b[0m\u001b[0;34m\u001b[0m\u001b[0m\n\u001b[0;32m--> 803\u001b[0;31m             \u001b[0mmsg_list\u001b[0m \u001b[0;34m=\u001b[0m \u001b[0msocket\u001b[0m\u001b[0;34m.\u001b[0m\u001b[0mrecv_multipart\u001b[0m\u001b[0;34m(\u001b[0m\u001b[0mmode\u001b[0m\u001b[0;34m,\u001b[0m \u001b[0mcopy\u001b[0m\u001b[0;34m=\u001b[0m\u001b[0mcopy\u001b[0m\u001b[0;34m)\u001b[0m\u001b[0;34m\u001b[0m\u001b[0;34m\u001b[0m\u001b[0m\n\u001b[0m\u001b[1;32m    804\u001b[0m         \u001b[0;32mexcept\u001b[0m \u001b[0mzmq\u001b[0m\u001b[0;34m.\u001b[0m\u001b[0mZMQError\u001b[0m \u001b[0;32mas\u001b[0m \u001b[0me\u001b[0m\u001b[0;34m:\u001b[0m\u001b[0;34m\u001b[0m\u001b[0;34m\u001b[0m\u001b[0m\n",
            "\u001b[0;32m/usr/local/lib/python3.6/dist-packages/zmq/sugar/socket.py\u001b[0m in \u001b[0;36mrecv_multipart\u001b[0;34m(self, flags, copy, track)\u001b[0m\n\u001b[1;32m    490\u001b[0m         \"\"\"\n\u001b[0;32m--> 491\u001b[0;31m         \u001b[0mparts\u001b[0m \u001b[0;34m=\u001b[0m \u001b[0;34m[\u001b[0m\u001b[0mself\u001b[0m\u001b[0;34m.\u001b[0m\u001b[0mrecv\u001b[0m\u001b[0;34m(\u001b[0m\u001b[0mflags\u001b[0m\u001b[0;34m,\u001b[0m \u001b[0mcopy\u001b[0m\u001b[0;34m=\u001b[0m\u001b[0mcopy\u001b[0m\u001b[0;34m,\u001b[0m \u001b[0mtrack\u001b[0m\u001b[0;34m=\u001b[0m\u001b[0mtrack\u001b[0m\u001b[0;34m)\u001b[0m\u001b[0;34m]\u001b[0m\u001b[0;34m\u001b[0m\u001b[0;34m\u001b[0m\u001b[0m\n\u001b[0m\u001b[1;32m    492\u001b[0m         \u001b[0;31m# have first part already, only loop while more to receive\u001b[0m\u001b[0;34m\u001b[0m\u001b[0;34m\u001b[0m\u001b[0;34m\u001b[0m\u001b[0m\n",
            "\u001b[0;32mzmq/backend/cython/socket.pyx\u001b[0m in \u001b[0;36mzmq.backend.cython.socket.Socket.recv\u001b[0;34m()\u001b[0m\n",
            "\u001b[0;32mzmq/backend/cython/socket.pyx\u001b[0m in \u001b[0;36mzmq.backend.cython.socket.Socket.recv\u001b[0;34m()\u001b[0m\n",
            "\u001b[0;32mzmq/backend/cython/socket.pyx\u001b[0m in \u001b[0;36mzmq.backend.cython.socket._recv_copy\u001b[0;34m()\u001b[0m\n",
            "\u001b[0;32m/usr/local/lib/python3.6/dist-packages/zmq/backend/cython/checkrc.pxd\u001b[0m in \u001b[0;36mzmq.backend.cython.checkrc._check_rc\u001b[0;34m()\u001b[0m\n",
            "\u001b[0;31mKeyboardInterrupt\u001b[0m: ",
            "\nDuring handling of the above exception, another exception occurred:\n",
            "\u001b[0;31mKeyboardInterrupt\u001b[0m                         Traceback (most recent call last)",
            "\u001b[0;32m<ipython-input-2-a2c285f18ed9>\u001b[0m in \u001b[0;36m<module>\u001b[0;34m()\u001b[0m\n\u001b[1;32m     12\u001b[0m \u001b[0;32mwhile\u001b[0m \u001b[0mplayer\u001b[0m \u001b[0;34m==\u001b[0m \u001b[0;32mFalse\u001b[0m\u001b[0;34m:\u001b[0m\u001b[0;34m\u001b[0m\u001b[0;34m\u001b[0m\u001b[0m\n\u001b[1;32m     13\u001b[0m \u001b[0;31m#set player to True\u001b[0m\u001b[0;34m\u001b[0m\u001b[0;34m\u001b[0m\u001b[0;34m\u001b[0m\u001b[0m\n\u001b[0;32m---> 14\u001b[0;31m     \u001b[0mplayer\u001b[0m \u001b[0;34m=\u001b[0m \u001b[0minput\u001b[0m\u001b[0;34m(\u001b[0m\u001b[0;34m\"Rock, Paper, Scissors?\"\u001b[0m\u001b[0;34m)\u001b[0m\u001b[0;34m\u001b[0m\u001b[0;34m\u001b[0m\u001b[0m\n\u001b[0m\u001b[1;32m     15\u001b[0m     \u001b[0;32mif\u001b[0m \u001b[0mplayer\u001b[0m \u001b[0;34m==\u001b[0m \u001b[0mcomputer\u001b[0m\u001b[0;34m:\u001b[0m\u001b[0;34m\u001b[0m\u001b[0;34m\u001b[0m\u001b[0m\n\u001b[1;32m     16\u001b[0m         \u001b[0mprint\u001b[0m\u001b[0;34m(\u001b[0m\u001b[0;34m\"Tie!\"\u001b[0m\u001b[0;34m)\u001b[0m\u001b[0;34m\u001b[0m\u001b[0;34m\u001b[0m\u001b[0m\n",
            "\u001b[0;32m/usr/local/lib/python3.6/dist-packages/ipykernel/kernelbase.py\u001b[0m in \u001b[0;36mraw_input\u001b[0;34m(self, prompt)\u001b[0m\n\u001b[1;32m    702\u001b[0m             \u001b[0mself\u001b[0m\u001b[0;34m.\u001b[0m\u001b[0m_parent_ident\u001b[0m\u001b[0;34m,\u001b[0m\u001b[0;34m\u001b[0m\u001b[0;34m\u001b[0m\u001b[0m\n\u001b[1;32m    703\u001b[0m             \u001b[0mself\u001b[0m\u001b[0;34m.\u001b[0m\u001b[0m_parent_header\u001b[0m\u001b[0;34m,\u001b[0m\u001b[0;34m\u001b[0m\u001b[0;34m\u001b[0m\u001b[0m\n\u001b[0;32m--> 704\u001b[0;31m             \u001b[0mpassword\u001b[0m\u001b[0;34m=\u001b[0m\u001b[0;32mFalse\u001b[0m\u001b[0;34m,\u001b[0m\u001b[0;34m\u001b[0m\u001b[0;34m\u001b[0m\u001b[0m\n\u001b[0m\u001b[1;32m    705\u001b[0m         )\n\u001b[1;32m    706\u001b[0m \u001b[0;34m\u001b[0m\u001b[0m\n",
            "\u001b[0;32m/usr/local/lib/python3.6/dist-packages/ipykernel/kernelbase.py\u001b[0m in \u001b[0;36m_input_request\u001b[0;34m(self, prompt, ident, parent, password)\u001b[0m\n\u001b[1;32m    732\u001b[0m             \u001b[0;32mexcept\u001b[0m \u001b[0mKeyboardInterrupt\u001b[0m\u001b[0;34m:\u001b[0m\u001b[0;34m\u001b[0m\u001b[0;34m\u001b[0m\u001b[0m\n\u001b[1;32m    733\u001b[0m                 \u001b[0;31m# re-raise KeyboardInterrupt, to truncate traceback\u001b[0m\u001b[0;34m\u001b[0m\u001b[0;34m\u001b[0m\u001b[0;34m\u001b[0m\u001b[0m\n\u001b[0;32m--> 734\u001b[0;31m                 \u001b[0;32mraise\u001b[0m \u001b[0mKeyboardInterrupt\u001b[0m\u001b[0;34m\u001b[0m\u001b[0;34m\u001b[0m\u001b[0m\n\u001b[0m\u001b[1;32m    735\u001b[0m             \u001b[0;32melse\u001b[0m\u001b[0;34m:\u001b[0m\u001b[0;34m\u001b[0m\u001b[0;34m\u001b[0m\u001b[0m\n\u001b[1;32m    736\u001b[0m                 \u001b[0;32mbreak\u001b[0m\u001b[0;34m\u001b[0m\u001b[0;34m\u001b[0m\u001b[0m\n",
            "\u001b[0;31mKeyboardInterrupt\u001b[0m: "
          ]
        }
      ]
    },
    {
      "cell_type": "code",
      "metadata": {
        "id": "ugzOPcaGAE6a"
      },
      "source": [
        "import numpy as np"
      ],
      "execution_count": null,
      "outputs": []
    },
    {
      "cell_type": "code",
      "metadata": {
        "id": "dUD7I0al-Hbc"
      },
      "source": [
        ""
      ],
      "execution_count": null,
      "outputs": []
    }
  ]
}